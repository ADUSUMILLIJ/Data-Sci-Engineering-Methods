{
  "nbformat": 4,
  "nbformat_minor": 0,
  "metadata": {
    "colab": {
      "provenance": []
    },
    "kernelspec": {
      "name": "python3",
      "display_name": "Python 3"
    },
    "language_info": {
      "name": "python"
    }
  },
  "cells": [
    {
      "cell_type": "markdown",
      "source": [
        "# **Healthcare Analytics for Disease Prediction**"
      ],
      "metadata": {
        "id": "qIYCWa56D_J2"
      }
    },
    {
      "cell_type": "markdown",
      "source": [
        "# Introduction\n",
        "The objective of this project is to develop a machine learning model to predict the likelihood of Diabetes and Heart Disease based on patient data. The model aims to assist healthcare professionals in early diagnosis and intervention, ultimately improving patient outcomes and reducing healthcare costs."
      ],
      "metadata": {
        "id": "RaG6AYKgzw4e"
      }
    },
    {
      "cell_type": "markdown",
      "source": [
        "# Creating Synthesized data inorder to work on Prediction Model"
      ],
      "metadata": {
        "id": "SlRgwh4qyvx0"
      }
    },
    {
      "cell_type": "markdown",
      "source": [
        "# Installing Libraries"
      ],
      "metadata": {
        "id": "eixUPWiGGRZd"
      }
    },
    {
      "cell_type": "code",
      "source": [
        "!pip install shap\n",
        "!pip install scikit-learn==1.2.2\n",
        "!pip install pdpbox\n",
        "!pip install h2o"
      ],
      "metadata": {
        "id": "3mF7mu-eGQ1O",
        "colab": {
          "base_uri": "https://localhost:8080/"
        },
        "outputId": "3e162aa6-eed6-45be-a86c-c53bd6ce1671"
      },
      "execution_count": 36,
      "outputs": [
        {
          "output_type": "stream",
          "name": "stdout",
          "text": [
            "Requirement already satisfied: shap in /usr/local/lib/python3.10/dist-packages (0.45.0)\n",
            "Requirement already satisfied: numpy in /usr/local/lib/python3.10/dist-packages (from shap) (1.25.2)\n",
            "Requirement already satisfied: scipy in /usr/local/lib/python3.10/dist-packages (from shap) (1.11.4)\n",
            "Requirement already satisfied: scikit-learn in /usr/local/lib/python3.10/dist-packages (from shap) (1.2.2)\n",
            "Requirement already satisfied: pandas in /usr/local/lib/python3.10/dist-packages (from shap) (2.0.3)\n",
            "Requirement already satisfied: tqdm>=4.27.0 in /usr/local/lib/python3.10/dist-packages (from shap) (4.66.2)\n",
            "Requirement already satisfied: packaging>20.9 in /usr/local/lib/python3.10/dist-packages (from shap) (24.0)\n",
            "Requirement already satisfied: slicer==0.0.7 in /usr/local/lib/python3.10/dist-packages (from shap) (0.0.7)\n",
            "Requirement already satisfied: numba in /usr/local/lib/python3.10/dist-packages (from shap) (0.58.1)\n",
            "Requirement already satisfied: cloudpickle in /usr/local/lib/python3.10/dist-packages (from shap) (2.2.1)\n",
            "Requirement already satisfied: llvmlite<0.42,>=0.41.0dev0 in /usr/local/lib/python3.10/dist-packages (from numba->shap) (0.41.1)\n",
            "Requirement already satisfied: python-dateutil>=2.8.2 in /usr/local/lib/python3.10/dist-packages (from pandas->shap) (2.8.2)\n",
            "Requirement already satisfied: pytz>=2020.1 in /usr/local/lib/python3.10/dist-packages (from pandas->shap) (2023.4)\n",
            "Requirement already satisfied: tzdata>=2022.1 in /usr/local/lib/python3.10/dist-packages (from pandas->shap) (2024.1)\n",
            "Requirement already satisfied: joblib>=1.1.1 in /usr/local/lib/python3.10/dist-packages (from scikit-learn->shap) (1.4.0)\n",
            "Requirement already satisfied: threadpoolctl>=2.0.0 in /usr/local/lib/python3.10/dist-packages (from scikit-learn->shap) (3.4.0)\n",
            "Requirement already satisfied: six>=1.5 in /usr/local/lib/python3.10/dist-packages (from python-dateutil>=2.8.2->pandas->shap) (1.16.0)\n",
            "Requirement already satisfied: scikit-learn==1.2.2 in /usr/local/lib/python3.10/dist-packages (1.2.2)\n",
            "Requirement already satisfied: numpy>=1.17.3 in /usr/local/lib/python3.10/dist-packages (from scikit-learn==1.2.2) (1.25.2)\n",
            "Requirement already satisfied: scipy>=1.3.2 in /usr/local/lib/python3.10/dist-packages (from scikit-learn==1.2.2) (1.11.4)\n",
            "Requirement already satisfied: joblib>=1.1.1 in /usr/local/lib/python3.10/dist-packages (from scikit-learn==1.2.2) (1.4.0)\n",
            "Requirement already satisfied: threadpoolctl>=2.0.0 in /usr/local/lib/python3.10/dist-packages (from scikit-learn==1.2.2) (3.4.0)\n",
            "Requirement already satisfied: pdpbox in /usr/local/lib/python3.10/dist-packages (0.3.0)\n",
            "Requirement already satisfied: joblib>=1.1.0 in /usr/local/lib/python3.10/dist-packages (from pdpbox) (1.4.0)\n",
            "Requirement already satisfied: matplotlib>=3.6.2 in /usr/local/lib/python3.10/dist-packages (from pdpbox) (3.7.1)\n",
            "Requirement already satisfied: numpy>=1.21.5 in /usr/local/lib/python3.10/dist-packages (from pdpbox) (1.25.2)\n",
            "Requirement already satisfied: pandas>=1.4.4 in /usr/local/lib/python3.10/dist-packages (from pdpbox) (2.0.3)\n",
            "Requirement already satisfied: plotly>=5.9.0 in /usr/local/lib/python3.10/dist-packages (from pdpbox) (5.15.0)\n",
            "Requirement already satisfied: pqdm>=0.2.0 in /usr/local/lib/python3.10/dist-packages (from pdpbox) (0.2.0)\n",
            "Requirement already satisfied: psutil>=5.9.0 in /usr/local/lib/python3.10/dist-packages (from pdpbox) (5.9.5)\n",
            "Requirement already satisfied: pytest in /usr/local/lib/python3.10/dist-packages (from pdpbox) (7.4.4)\n",
            "Requirement already satisfied: scikit-learn>=1.0.2 in /usr/local/lib/python3.10/dist-packages (from pdpbox) (1.2.2)\n",
            "Requirement already satisfied: setuptools in /usr/local/lib/python3.10/dist-packages (from pdpbox) (67.7.2)\n",
            "Requirement already satisfied: sphinx>=5.0.2 in /usr/local/lib/python3.10/dist-packages (from pdpbox) (7.3.7)\n",
            "Requirement already satisfied: sphinx-rtd-theme>=1.1.1 in /usr/local/lib/python3.10/dist-packages (from pdpbox) (2.0.0)\n",
            "Requirement already satisfied: tqdm>=4.64.1 in /usr/local/lib/python3.10/dist-packages (from pdpbox) (4.66.2)\n",
            "Requirement already satisfied: numpydoc>=1.4.0 in /usr/local/lib/python3.10/dist-packages (from pdpbox) (1.7.0)\n",
            "Requirement already satisfied: xgboost>=1.7.1 in /usr/local/lib/python3.10/dist-packages (from pdpbox) (2.0.3)\n",
            "Requirement already satisfied: contourpy>=1.0.1 in /usr/local/lib/python3.10/dist-packages (from matplotlib>=3.6.2->pdpbox) (1.2.1)\n",
            "Requirement already satisfied: cycler>=0.10 in /usr/local/lib/python3.10/dist-packages (from matplotlib>=3.6.2->pdpbox) (0.12.1)\n",
            "Requirement already satisfied: fonttools>=4.22.0 in /usr/local/lib/python3.10/dist-packages (from matplotlib>=3.6.2->pdpbox) (4.51.0)\n",
            "Requirement already satisfied: kiwisolver>=1.0.1 in /usr/local/lib/python3.10/dist-packages (from matplotlib>=3.6.2->pdpbox) (1.4.5)\n",
            "Requirement already satisfied: packaging>=20.0 in /usr/local/lib/python3.10/dist-packages (from matplotlib>=3.6.2->pdpbox) (24.0)\n",
            "Requirement already satisfied: pillow>=6.2.0 in /usr/local/lib/python3.10/dist-packages (from matplotlib>=3.6.2->pdpbox) (9.4.0)\n",
            "Requirement already satisfied: pyparsing>=2.3.1 in /usr/local/lib/python3.10/dist-packages (from matplotlib>=3.6.2->pdpbox) (3.1.2)\n",
            "Requirement already satisfied: python-dateutil>=2.7 in /usr/local/lib/python3.10/dist-packages (from matplotlib>=3.6.2->pdpbox) (2.8.2)\n",
            "Requirement already satisfied: tabulate>=0.8.10 in /usr/local/lib/python3.10/dist-packages (from numpydoc>=1.4.0->pdpbox) (0.9.0)\n",
            "Requirement already satisfied: tomli>=1.1.0 in /usr/local/lib/python3.10/dist-packages (from numpydoc>=1.4.0->pdpbox) (2.0.1)\n",
            "Requirement already satisfied: pytz>=2020.1 in /usr/local/lib/python3.10/dist-packages (from pandas>=1.4.4->pdpbox) (2023.4)\n",
            "Requirement already satisfied: tzdata>=2022.1 in /usr/local/lib/python3.10/dist-packages (from pandas>=1.4.4->pdpbox) (2024.1)\n",
            "Requirement already satisfied: tenacity>=6.2.0 in /usr/local/lib/python3.10/dist-packages (from plotly>=5.9.0->pdpbox) (8.2.3)\n",
            "Requirement already satisfied: bounded-pool-executor in /usr/local/lib/python3.10/dist-packages (from pqdm>=0.2.0->pdpbox) (0.0.3)\n",
            "Requirement already satisfied: typing-extensions in /usr/local/lib/python3.10/dist-packages (from pqdm>=0.2.0->pdpbox) (4.11.0)\n",
            "Requirement already satisfied: scipy>=1.3.2 in /usr/local/lib/python3.10/dist-packages (from scikit-learn>=1.0.2->pdpbox) (1.11.4)\n",
            "Requirement already satisfied: threadpoolctl>=2.0.0 in /usr/local/lib/python3.10/dist-packages (from scikit-learn>=1.0.2->pdpbox) (3.4.0)\n",
            "Requirement already satisfied: sphinxcontrib-applehelp in /usr/local/lib/python3.10/dist-packages (from sphinx>=5.0.2->pdpbox) (1.0.8)\n",
            "Requirement already satisfied: sphinxcontrib-devhelp in /usr/local/lib/python3.10/dist-packages (from sphinx>=5.0.2->pdpbox) (1.0.6)\n",
            "Requirement already satisfied: sphinxcontrib-jsmath in /usr/local/lib/python3.10/dist-packages (from sphinx>=5.0.2->pdpbox) (1.0.1)\n",
            "Requirement already satisfied: sphinxcontrib-htmlhelp>=2.0.0 in /usr/local/lib/python3.10/dist-packages (from sphinx>=5.0.2->pdpbox) (2.0.5)\n",
            "Requirement already satisfied: sphinxcontrib-serializinghtml>=1.1.9 in /usr/local/lib/python3.10/dist-packages (from sphinx>=5.0.2->pdpbox) (1.1.10)\n",
            "Requirement already satisfied: sphinxcontrib-qthelp in /usr/local/lib/python3.10/dist-packages (from sphinx>=5.0.2->pdpbox) (1.0.7)\n",
            "Requirement already satisfied: Jinja2>=3.0 in /usr/local/lib/python3.10/dist-packages (from sphinx>=5.0.2->pdpbox) (3.1.3)\n",
            "Requirement already satisfied: Pygments>=2.14 in /usr/local/lib/python3.10/dist-packages (from sphinx>=5.0.2->pdpbox) (2.16.1)\n",
            "Requirement already satisfied: docutils<0.22,>=0.18.1 in /usr/local/lib/python3.10/dist-packages (from sphinx>=5.0.2->pdpbox) (0.18.1)\n",
            "Requirement already satisfied: snowballstemmer>=2.0 in /usr/local/lib/python3.10/dist-packages (from sphinx>=5.0.2->pdpbox) (2.2.0)\n",
            "Requirement already satisfied: babel>=2.9 in /usr/local/lib/python3.10/dist-packages (from sphinx>=5.0.2->pdpbox) (2.14.0)\n",
            "Requirement already satisfied: alabaster~=0.7.14 in /usr/local/lib/python3.10/dist-packages (from sphinx>=5.0.2->pdpbox) (0.7.16)\n",
            "Requirement already satisfied: imagesize>=1.3 in /usr/local/lib/python3.10/dist-packages (from sphinx>=5.0.2->pdpbox) (1.4.1)\n",
            "Requirement already satisfied: requests>=2.25.0 in /usr/local/lib/python3.10/dist-packages (from sphinx>=5.0.2->pdpbox) (2.31.0)\n",
            "Requirement already satisfied: sphinxcontrib-jquery<5,>=4 in /usr/local/lib/python3.10/dist-packages (from sphinx-rtd-theme>=1.1.1->pdpbox) (4.1)\n",
            "Requirement already satisfied: iniconfig in /usr/local/lib/python3.10/dist-packages (from pytest->pdpbox) (2.0.0)\n",
            "Requirement already satisfied: pluggy<2.0,>=0.12 in /usr/local/lib/python3.10/dist-packages (from pytest->pdpbox) (1.4.0)\n",
            "Requirement already satisfied: exceptiongroup>=1.0.0rc8 in /usr/local/lib/python3.10/dist-packages (from pytest->pdpbox) (1.2.1)\n",
            "Requirement already satisfied: MarkupSafe>=2.0 in /usr/local/lib/python3.10/dist-packages (from Jinja2>=3.0->sphinx>=5.0.2->pdpbox) (2.1.5)\n",
            "Requirement already satisfied: six>=1.5 in /usr/local/lib/python3.10/dist-packages (from python-dateutil>=2.7->matplotlib>=3.6.2->pdpbox) (1.16.0)\n",
            "Requirement already satisfied: charset-normalizer<4,>=2 in /usr/local/lib/python3.10/dist-packages (from requests>=2.25.0->sphinx>=5.0.2->pdpbox) (3.3.2)\n",
            "Requirement already satisfied: idna<4,>=2.5 in /usr/local/lib/python3.10/dist-packages (from requests>=2.25.0->sphinx>=5.0.2->pdpbox) (3.7)\n",
            "Requirement already satisfied: urllib3<3,>=1.21.1 in /usr/local/lib/python3.10/dist-packages (from requests>=2.25.0->sphinx>=5.0.2->pdpbox) (2.0.7)\n",
            "Requirement already satisfied: certifi>=2017.4.17 in /usr/local/lib/python3.10/dist-packages (from requests>=2.25.0->sphinx>=5.0.2->pdpbox) (2024.2.2)\n",
            "Collecting h2o\n",
            "  Downloading h2o-3.46.0.1-py2.py3-none-any.whl (265.6 MB)\n",
            "\u001b[2K     \u001b[90m━━━━━━━━━━━━━━━━━━━━━━━━━━━━━━━━━━━━━━━━\u001b[0m \u001b[32m265.6/265.6 MB\u001b[0m \u001b[31m2.6 MB/s\u001b[0m eta \u001b[36m0:00:00\u001b[0m\n",
            "\u001b[?25hRequirement already satisfied: requests in /usr/local/lib/python3.10/dist-packages (from h2o) (2.31.0)\n",
            "Requirement already satisfied: tabulate in /usr/local/lib/python3.10/dist-packages (from h2o) (0.9.0)\n",
            "Requirement already satisfied: charset-normalizer<4,>=2 in /usr/local/lib/python3.10/dist-packages (from requests->h2o) (3.3.2)\n",
            "Requirement already satisfied: idna<4,>=2.5 in /usr/local/lib/python3.10/dist-packages (from requests->h2o) (3.7)\n",
            "Requirement already satisfied: urllib3<3,>=1.21.1 in /usr/local/lib/python3.10/dist-packages (from requests->h2o) (2.0.7)\n",
            "Requirement already satisfied: certifi>=2017.4.17 in /usr/local/lib/python3.10/dist-packages (from requests->h2o) (2024.2.2)\n",
            "Installing collected packages: h2o\n",
            "Successfully installed h2o-3.46.0.1\n"
          ]
        }
      ]
    },
    {
      "cell_type": "code",
      "execution_count": 14,
      "metadata": {
        "colab": {
          "base_uri": "https://localhost:8080/"
        },
        "id": "0qZ7IkymyMqX",
        "outputId": "5f998749-4102-4932-a021-56abe6c5765d"
      },
      "outputs": [
        {
          "output_type": "stream",
          "name": "stdout",
          "text": [
            "   Patient_ID  Age  Gender        BMI  Blood_Pressure_Systolic  \\\n",
            "0           1   69    Male  30.540914               108.105881   \n",
            "1           2   32  Female  19.800470               136.426730   \n",
            "2           3   78  Female  28.063870               110.993793   \n",
            "3           4   38  Female  19.732922               126.383919   \n",
            "4           5   41    Male  21.881155               116.713815   \n",
            "\n",
            "   Blood_Pressure_Diastolic  Cholesterol_Level  Diabetes_Status  \\\n",
            "0                 76.351988         198.120813                0   \n",
            "1                 81.807087         207.293704                1   \n",
            "2                 73.534292         191.172725                0   \n",
            "3                 82.861952         240.697502                0   \n",
            "4                 82.253017         193.989423                0   \n",
            "\n",
            "   Heart_Disease_Status  Smoking_Status  \n",
            "0                     0               1  \n",
            "1                     0               1  \n",
            "2                     0               0  \n",
            "3                     0               0  \n",
            "4                     1               0  \n"
          ]
        }
      ],
      "source": [
        "import numpy as np\n",
        "import pandas as pd\n",
        "\n",
        "# Set random seed for reproducibility\n",
        "np.random.seed(42)\n",
        "\n",
        "# Define number of samples\n",
        "num_samples = 1000\n",
        "\n",
        "# Generate synthetic data\n",
        "data = {\n",
        "    'Patient_ID': np.arange(1, num_samples + 1),\n",
        "    'Age': np.random.randint(18, 85, size=num_samples),\n",
        "    'Gender': np.random.choice(['Male', 'Female'], size=num_samples),\n",
        "    'BMI': np.random.normal(25, 5, size=num_samples),\n",
        "    'Blood_Pressure_Systolic': np.random.normal(120, 10, size=num_samples),\n",
        "    'Blood_Pressure_Diastolic': np.random.normal(80, 5, size=num_samples),\n",
        "    'Cholesterol_Level': np.random.normal(200, 30, size=num_samples),\n",
        "    'Diabetes_Status': np.random.choice([0, 1], size=num_samples, p=[0.9, 0.1]),\n",
        "    'Heart_Disease_Status': np.random.choice([0, 1], size=num_samples, p=[0.8, 0.2]),\n",
        "    'Smoking_Status': np.random.choice([0, 1], size=num_samples, p=[0.7, 0.3])\n",
        "}\n",
        "\n",
        "# Create DataFrame\n",
        "created_data = pd.DataFrame(data)\n",
        "\n",
        "# Display the first few rows of the synthetic dataset\n",
        "print(created_data.head())\n",
        "\n"
      ]
    },
    {
      "cell_type": "code",
      "source": [
        "# Print columns of the DataFrame\n",
        "print(created_data.columns)\n"
      ],
      "metadata": {
        "colab": {
          "base_uri": "https://localhost:8080/"
        },
        "id": "u2KDMZsg1eTe",
        "outputId": "d0e42704-7b4a-4b8f-bd3a-0bb1eb230ef2"
      },
      "execution_count": 15,
      "outputs": [
        {
          "output_type": "stream",
          "name": "stdout",
          "text": [
            "Index(['Patient_ID', 'Age', 'Gender', 'BMI', 'Blood_Pressure_Systolic',\n",
            "       'Blood_Pressure_Diastolic', 'Cholesterol_Level', 'Diabetes_Status',\n",
            "       'Heart_Disease_Status', 'Smoking_Status'],\n",
            "      dtype='object')\n"
          ]
        }
      ]
    },
    {
      "cell_type": "markdown",
      "source": [
        "# Pre processing"
      ],
      "metadata": {
        "id": "aJunydzqzvvV"
      }
    },
    {
      "cell_type": "code",
      "source": [
        "# Check data types of each column\n",
        "print(created_data.dtypes)\n",
        "\n",
        "\n"
      ],
      "metadata": {
        "colab": {
          "base_uri": "https://localhost:8080/"
        },
        "id": "QVVuw-P73out",
        "outputId": "56d38ea1-58ae-4a0f-9364-80e63ca8bdc2"
      },
      "execution_count": 16,
      "outputs": [
        {
          "output_type": "stream",
          "name": "stdout",
          "text": [
            "Patient_ID                    int64\n",
            "Age                           int64\n",
            "Gender                       object\n",
            "BMI                         float64\n",
            "Blood_Pressure_Systolic     float64\n",
            "Blood_Pressure_Diastolic    float64\n",
            "Cholesterol_Level           float64\n",
            "Diabetes_Status               int64\n",
            "Heart_Disease_Status          int64\n",
            "Smoking_Status                int64\n",
            "dtype: object\n"
          ]
        }
      ]
    },
    {
      "cell_type": "code",
      "source": [
        "from sklearn.preprocessing import StandardScaler, LabelEncoder\n",
        "# Preprocessing: Handling Missing Values\n",
        "# Check for missing values\n",
        "missing_values = created_data.isnull().sum()\n",
        "print(\"\\nMissing Values:\\n\", missing_values)\n",
        "\n",
        "# No missing values in this synthetic dataset, so no further action needed\n",
        "\n",
        "# Preprocessing: Label Encoding for 'Gender' Column\n",
        "label_encoder = LabelEncoder()\n",
        "created_data['Gender'] = label_encoder.fit_transform(created_data['Gender'])\n",
        "\n",
        "# Display the first few rows after label encoding\n",
        "print(\"\\nAfter Label Encoding:\\n\", created_data.head())\n",
        "\n",
        "# Preprocessing: Normalizing Numerical Features\n",
        "# Initialize the scaler\n",
        "scaler = StandardScaler()\n",
        "\n",
        "# Scale numerical features (Age, BMI, Blood_Pressure_Systolic, Blood_Pressure_Diastolic, Cholesterol_Level)\n",
        "numerical_features = ['Age', 'BMI', 'Blood_Pressure_Systolic', 'Blood_Pressure_Diastolic', 'Cholesterol_Level']\n",
        "created_data[numerical_features] = scaler.fit_transform(created_data[numerical_features])\n",
        "\n",
        "# Display the first few rows after normalization\n",
        "print(\"\\nAfter Normalization:\\n\", created_data.head())"
      ],
      "metadata": {
        "colab": {
          "base_uri": "https://localhost:8080/"
        },
        "id": "MmnXXtMx4n2O",
        "outputId": "ab4e5cef-6f4c-4975-8bc4-36a775f15ff8"
      },
      "execution_count": 21,
      "outputs": [
        {
          "output_type": "stream",
          "name": "stdout",
          "text": [
            "\n",
            "Missing Values:\n",
            " Patient_ID                  0\n",
            "Age                         0\n",
            "Gender                      0\n",
            "BMI                         0\n",
            "Blood_Pressure_Systolic     0\n",
            "Blood_Pressure_Diastolic    0\n",
            "Cholesterol_Level           0\n",
            "Diabetes_Status             0\n",
            "Heart_Disease_Status        0\n",
            "Smoking_Status              0\n",
            "BMI_Category_Underweight    0\n",
            "dtype: int64\n",
            "\n",
            "After Label Encoding:\n",
            "    Patient_ID       Age  Gender       BMI  Blood_Pressure_Systolic  \\\n",
            "0           1  0.926840       1  1.071156                -1.211863   \n",
            "1           2 -0.944644       0 -1.089664                 1.650700   \n",
            "2           3  1.382066       0  0.572811                -0.919964   \n",
            "3           4 -0.641160       0 -1.103253                 0.635611   \n",
            "4           5 -0.489418       1 -0.671061                -0.341806   \n",
            "\n",
            "   Blood_Pressure_Diastolic  Cholesterol_Level  Diabetes_Status  \\\n",
            "0                 -0.693649          -0.028002                0   \n",
            "1                  0.373646           0.279780                1   \n",
            "2                 -1.244933          -0.261134                0   \n",
            "3                  0.580031           1.400591                0   \n",
            "4                  0.460893          -0.166624                0   \n",
            "\n",
            "   Heart_Disease_Status  Smoking_Status  BMI_Category_Underweight  \n",
            "0                     0               1                      True  \n",
            "1                     0               1                      True  \n",
            "2                     0               0                      True  \n",
            "3                     0               0                      True  \n",
            "4                     1               0                      True  \n",
            "\n",
            "After Normalization:\n",
            "    Patient_ID       Age  Gender       BMI  Blood_Pressure_Systolic  \\\n",
            "0           1  0.926840       1  1.071156                -1.211863   \n",
            "1           2 -0.944644       0 -1.089664                 1.650700   \n",
            "2           3  1.382066       0  0.572811                -0.919964   \n",
            "3           4 -0.641160       0 -1.103253                 0.635611   \n",
            "4           5 -0.489418       1 -0.671061                -0.341806   \n",
            "\n",
            "   Blood_Pressure_Diastolic  Cholesterol_Level  Diabetes_Status  \\\n",
            "0                 -0.693649          -0.028002                0   \n",
            "1                  0.373646           0.279780                1   \n",
            "2                 -1.244933          -0.261134                0   \n",
            "3                  0.580031           1.400591                0   \n",
            "4                  0.460893          -0.166624                0   \n",
            "\n",
            "   Heart_Disease_Status  Smoking_Status  BMI_Category_Underweight  \n",
            "0                     0               1                      True  \n",
            "1                     0               1                      True  \n",
            "2                     0               0                      True  \n",
            "3                     0               0                      True  \n",
            "4                     1               0                      True  \n"
          ]
        }
      ]
    },
    {
      "cell_type": "markdown",
      "source": [
        "with using label encoder we encoded gender values into 0 and 1 inorder to continue with normalization"
      ],
      "metadata": {
        "id": "-0wHy3_y5xw3"
      }
    },
    {
      "cell_type": "markdown",
      "source": [
        "# Feature Engineering"
      ],
      "metadata": {
        "id": "ecdcqMe-6ZCT"
      }
    },
    {
      "cell_type": "code",
      "source": [
        "# Feature Engineering\n",
        "# Calculate BMI category based on BMI values\n",
        "def categorize_bmi(bmi):\n",
        "    if bmi < 18.5:\n",
        "        return 'Underweight'\n",
        "    elif 18.5 <= bmi < 25:\n",
        "        return 'Normal'\n",
        "    elif 25 <= bmi < 30:\n",
        "        return 'Overweight'\n",
        "    else:\n",
        "        return 'Obese'\n",
        "\n",
        "created_data['BMI_Category'] = created_data['BMI'].apply(categorize_bmi)\n",
        "\n",
        "# Display the first few rows after feature engineering\n",
        "print(\"\\nAfter Feature Engineering:\\n\", created_data.head())"
      ],
      "metadata": {
        "colab": {
          "base_uri": "https://localhost:8080/"
        },
        "id": "v-biNULM6DHq",
        "outputId": "598e1199-635a-4ac6-ff64-d9c04a994c73"
      },
      "execution_count": 22,
      "outputs": [
        {
          "output_type": "stream",
          "name": "stdout",
          "text": [
            "\n",
            "After Feature Engineering:\n",
            "    Patient_ID       Age  Gender       BMI  Blood_Pressure_Systolic  \\\n",
            "0           1  0.926840       1  1.071156                -1.211863   \n",
            "1           2 -0.944644       0 -1.089664                 1.650700   \n",
            "2           3  1.382066       0  0.572811                -0.919964   \n",
            "3           4 -0.641160       0 -1.103253                 0.635611   \n",
            "4           5 -0.489418       1 -0.671061                -0.341806   \n",
            "\n",
            "   Blood_Pressure_Diastolic  Cholesterol_Level  Diabetes_Status  \\\n",
            "0                 -0.693649          -0.028002                0   \n",
            "1                  0.373646           0.279780                1   \n",
            "2                 -1.244933          -0.261134                0   \n",
            "3                  0.580031           1.400591                0   \n",
            "4                  0.460893          -0.166624                0   \n",
            "\n",
            "   Heart_Disease_Status  Smoking_Status  BMI_Category_Underweight BMI_Category  \n",
            "0                     0               1                      True  Underweight  \n",
            "1                     0               1                      True  Underweight  \n",
            "2                     0               0                      True  Underweight  \n",
            "3                     0               0                      True  Underweight  \n",
            "4                     1               0                      True  Underweight  \n"
          ]
        }
      ]
    },
    {
      "cell_type": "markdown",
      "source": [
        "we create a new feature called 'BMI_Category' based on the BMI values. This feature categorizes individuals into different BMI categories such as 'Underweight', 'Normal', 'Overweight', or 'Obese'. This new feature might provide additional insights into the relationship between BMI and the target diseases."
      ],
      "metadata": {
        "id": "Lv4g2Xzj6kyK"
      }
    },
    {
      "cell_type": "markdown",
      "source": [
        "# Initializing classifiers"
      ],
      "metadata": {
        "id": "8kwbuiAo6tl7"
      }
    },
    {
      "cell_type": "code",
      "source": [
        "from sklearn.model_selection import train_test_split\n",
        "# One-hot encode 'BMI_Category' column\n",
        "created_data = pd.get_dummies(created_data, columns=['BMI_Category'])\n",
        "\n",
        "# Split data into features (X) and target variables (y)\n",
        "X = created_data.drop(columns=['Patient_ID', 'Diabetes_Status', 'Heart_Disease_Status'])\n",
        "y_diabetes = created_data['Diabetes_Status']\n",
        "y_heart_disease = created_data['Heart_Disease_Status']\n",
        "\n",
        "# Split data into training and testing sets\n",
        "X_train, X_test, y_train_diabetes, y_test_diabetes = train_test_split(X, y_diabetes, test_size=0.2, random_state=42)\n",
        "X_train, X_test, y_train_heart_disease, y_test_heart_disease = train_test_split(X, y_heart_disease, test_size=0.2, random_state=42)\n"
      ],
      "metadata": {
        "id": "hpk9gFQ384vd"
      },
      "execution_count": 23,
      "outputs": []
    },
    {
      "cell_type": "code",
      "source": [
        "from sklearn.model_selection import train_test_split\n",
        "from sklearn.linear_model import LogisticRegression\n",
        "from sklearn.tree import DecisionTreeClassifier\n",
        "from sklearn.ensemble import RandomForestClassifier\n",
        "from sklearn.svm import SVC\n",
        "from sklearn.neural_network import MLPClassifier\n",
        "from sklearn.metrics import accuracy_score, classification_report\n",
        "\n",
        "# Split data into features (X) and target variables (y)\n",
        "X = created_data.drop(columns=['Patient_ID', 'Diabetes_Status', 'Heart_Disease_Status'])\n",
        "y_diabetes = created_data['Diabetes_Status']\n",
        "y_heart_disease = created_data['Heart_Disease_Status']\n",
        "\n",
        "# Split data into training and testing sets\n",
        "X_train, X_test, y_train_diabetes, y_test_diabetes = train_test_split(X, y_diabetes, test_size=0.2, random_state=42)\n",
        "X_train, X_test, y_train_heart_disease, y_test_heart_disease = train_test_split(X, y_heart_disease, test_size=0.2, random_state=42)\n",
        "\n",
        "# Initialize classifiers\n",
        "classifiers = {\n",
        "    'Logistic Regression': LogisticRegression(),\n",
        "    'Decision Tree': DecisionTreeClassifier(),\n",
        "    'Random Forest': RandomForestClassifier(),\n",
        "    'SVM': SVC(),\n",
        "    'Neural Network': MLPClassifier()\n",
        "}\n",
        "\n",
        "# Train and evaluate classifiers for Diabetes_Status prediction\n",
        "print(\"Diabetes_Status Prediction:\")\n",
        "for name, classifier in classifiers.items():\n",
        "    classifier.fit(X_train, y_train_diabetes)\n",
        "    y_pred = classifier.predict(X_test)\n",
        "    accuracy = accuracy_score(y_test_diabetes, y_pred)\n",
        "    print(f\"{name}: Accuracy = {accuracy:.2f}\")\n",
        "    print(classification_report(y_test_diabetes, y_pred))\n",
        "\n",
        "# Train and evaluate classifiers for Heart_Disease_Status prediction\n",
        "print(\"\\nHeart_Disease_Status Prediction:\")\n",
        "for name, classifier in classifiers.items():\n",
        "    classifier.fit(X_train, y_train_heart_disease)\n",
        "    y_pred = classifier.predict(X_test)\n",
        "    accuracy = accuracy_score(y_test_heart_disease, y_pred)\n",
        "    print(f\"{name}: Accuracy = {accuracy:.2f}\")\n",
        "    print(classification_report(y_test_heart_disease, y_pred))\n"
      ],
      "metadata": {
        "id": "5P8Cgm1f8SJ7",
        "colab": {
          "base_uri": "https://localhost:8080/"
        },
        "outputId": "c77343fc-3e6e-4a03-af39-d124ae708e2d"
      },
      "execution_count": 24,
      "outputs": [
        {
          "output_type": "stream",
          "name": "stdout",
          "text": [
            "Diabetes_Status Prediction:\n",
            "Logistic Regression: Accuracy = 0.90\n",
            "              precision    recall  f1-score   support\n",
            "\n",
            "           0       0.90      1.00      0.94       179\n",
            "           1       0.00      0.00      0.00        21\n",
            "\n",
            "    accuracy                           0.90       200\n",
            "   macro avg       0.45      0.50      0.47       200\n",
            "weighted avg       0.80      0.90      0.85       200\n",
            "\n",
            "Decision Tree: Accuracy = 0.82\n",
            "              precision    recall  f1-score   support\n",
            "\n",
            "           0       0.90      0.91      0.90       179\n",
            "           1       0.11      0.10      0.10        21\n",
            "\n",
            "    accuracy                           0.82       200\n",
            "   macro avg       0.50      0.50      0.50       200\n",
            "weighted avg       0.81      0.82      0.82       200\n",
            "\n"
          ]
        },
        {
          "output_type": "stream",
          "name": "stderr",
          "text": [
            "/usr/local/lib/python3.10/dist-packages/sklearn/metrics/_classification.py:1344: UndefinedMetricWarning: Precision and F-score are ill-defined and being set to 0.0 in labels with no predicted samples. Use `zero_division` parameter to control this behavior.\n",
            "  _warn_prf(average, modifier, msg_start, len(result))\n",
            "/usr/local/lib/python3.10/dist-packages/sklearn/metrics/_classification.py:1344: UndefinedMetricWarning: Precision and F-score are ill-defined and being set to 0.0 in labels with no predicted samples. Use `zero_division` parameter to control this behavior.\n",
            "  _warn_prf(average, modifier, msg_start, len(result))\n",
            "/usr/local/lib/python3.10/dist-packages/sklearn/metrics/_classification.py:1344: UndefinedMetricWarning: Precision and F-score are ill-defined and being set to 0.0 in labels with no predicted samples. Use `zero_division` parameter to control this behavior.\n",
            "  _warn_prf(average, modifier, msg_start, len(result))\n"
          ]
        },
        {
          "output_type": "stream",
          "name": "stdout",
          "text": [
            "Random Forest: Accuracy = 0.90\n",
            "              precision    recall  f1-score   support\n",
            "\n",
            "           0       0.90      1.00      0.94       179\n",
            "           1       0.00      0.00      0.00        21\n",
            "\n",
            "    accuracy                           0.90       200\n",
            "   macro avg       0.45      0.50      0.47       200\n",
            "weighted avg       0.80      0.90      0.85       200\n",
            "\n",
            "SVM: Accuracy = 0.90\n",
            "              precision    recall  f1-score   support\n",
            "\n",
            "           0       0.90      1.00      0.94       179\n",
            "           1       0.00      0.00      0.00        21\n",
            "\n",
            "    accuracy                           0.90       200\n",
            "   macro avg       0.45      0.50      0.47       200\n",
            "weighted avg       0.80      0.90      0.85       200\n",
            "\n"
          ]
        },
        {
          "output_type": "stream",
          "name": "stderr",
          "text": [
            "/usr/local/lib/python3.10/dist-packages/sklearn/metrics/_classification.py:1344: UndefinedMetricWarning: Precision and F-score are ill-defined and being set to 0.0 in labels with no predicted samples. Use `zero_division` parameter to control this behavior.\n",
            "  _warn_prf(average, modifier, msg_start, len(result))\n",
            "/usr/local/lib/python3.10/dist-packages/sklearn/metrics/_classification.py:1344: UndefinedMetricWarning: Precision and F-score are ill-defined and being set to 0.0 in labels with no predicted samples. Use `zero_division` parameter to control this behavior.\n",
            "  _warn_prf(average, modifier, msg_start, len(result))\n",
            "/usr/local/lib/python3.10/dist-packages/sklearn/metrics/_classification.py:1344: UndefinedMetricWarning: Precision and F-score are ill-defined and being set to 0.0 in labels with no predicted samples. Use `zero_division` parameter to control this behavior.\n",
            "  _warn_prf(average, modifier, msg_start, len(result))\n",
            "/usr/local/lib/python3.10/dist-packages/sklearn/metrics/_classification.py:1344: UndefinedMetricWarning: Precision and F-score are ill-defined and being set to 0.0 in labels with no predicted samples. Use `zero_division` parameter to control this behavior.\n",
            "  _warn_prf(average, modifier, msg_start, len(result))\n",
            "/usr/local/lib/python3.10/dist-packages/sklearn/metrics/_classification.py:1344: UndefinedMetricWarning: Precision and F-score are ill-defined and being set to 0.0 in labels with no predicted samples. Use `zero_division` parameter to control this behavior.\n",
            "  _warn_prf(average, modifier, msg_start, len(result))\n",
            "/usr/local/lib/python3.10/dist-packages/sklearn/metrics/_classification.py:1344: UndefinedMetricWarning: Precision and F-score are ill-defined and being set to 0.0 in labels with no predicted samples. Use `zero_division` parameter to control this behavior.\n",
            "  _warn_prf(average, modifier, msg_start, len(result))\n",
            "/usr/local/lib/python3.10/dist-packages/sklearn/neural_network/_multilayer_perceptron.py:686: ConvergenceWarning: Stochastic Optimizer: Maximum iterations (200) reached and the optimization hasn't converged yet.\n",
            "  warnings.warn(\n",
            "/usr/local/lib/python3.10/dist-packages/sklearn/metrics/_classification.py:1344: UndefinedMetricWarning: Precision and F-score are ill-defined and being set to 0.0 in labels with no predicted samples. Use `zero_division` parameter to control this behavior.\n",
            "  _warn_prf(average, modifier, msg_start, len(result))\n",
            "/usr/local/lib/python3.10/dist-packages/sklearn/metrics/_classification.py:1344: UndefinedMetricWarning: Precision and F-score are ill-defined and being set to 0.0 in labels with no predicted samples. Use `zero_division` parameter to control this behavior.\n",
            "  _warn_prf(average, modifier, msg_start, len(result))\n",
            "/usr/local/lib/python3.10/dist-packages/sklearn/metrics/_classification.py:1344: UndefinedMetricWarning: Precision and F-score are ill-defined and being set to 0.0 in labels with no predicted samples. Use `zero_division` parameter to control this behavior.\n",
            "  _warn_prf(average, modifier, msg_start, len(result))\n",
            "/usr/local/lib/python3.10/dist-packages/sklearn/metrics/_classification.py:1344: UndefinedMetricWarning: Precision and F-score are ill-defined and being set to 0.0 in labels with no predicted samples. Use `zero_division` parameter to control this behavior.\n",
            "  _warn_prf(average, modifier, msg_start, len(result))\n",
            "/usr/local/lib/python3.10/dist-packages/sklearn/metrics/_classification.py:1344: UndefinedMetricWarning: Precision and F-score are ill-defined and being set to 0.0 in labels with no predicted samples. Use `zero_division` parameter to control this behavior.\n",
            "  _warn_prf(average, modifier, msg_start, len(result))\n",
            "/usr/local/lib/python3.10/dist-packages/sklearn/metrics/_classification.py:1344: UndefinedMetricWarning: Precision and F-score are ill-defined and being set to 0.0 in labels with no predicted samples. Use `zero_division` parameter to control this behavior.\n",
            "  _warn_prf(average, modifier, msg_start, len(result))\n"
          ]
        },
        {
          "output_type": "stream",
          "name": "stdout",
          "text": [
            "Neural Network: Accuracy = 0.90\n",
            "              precision    recall  f1-score   support\n",
            "\n",
            "           0       0.90      1.00      0.94       179\n",
            "           1       0.00      0.00      0.00        21\n",
            "\n",
            "    accuracy                           0.90       200\n",
            "   macro avg       0.45      0.50      0.47       200\n",
            "weighted avg       0.80      0.90      0.85       200\n",
            "\n",
            "\n",
            "Heart_Disease_Status Prediction:\n",
            "Logistic Regression: Accuracy = 0.80\n",
            "              precision    recall  f1-score   support\n",
            "\n",
            "           0       0.80      1.00      0.89       159\n",
            "           1       0.00      0.00      0.00        41\n",
            "\n",
            "    accuracy                           0.80       200\n",
            "   macro avg       0.40      0.50      0.44       200\n",
            "weighted avg       0.63      0.80      0.70       200\n",
            "\n",
            "Decision Tree: Accuracy = 0.69\n",
            "              precision    recall  f1-score   support\n",
            "\n",
            "           0       0.80      0.82      0.81       159\n",
            "           1       0.22      0.20      0.21        41\n",
            "\n",
            "    accuracy                           0.69       200\n",
            "   macro avg       0.51      0.51      0.51       200\n",
            "weighted avg       0.68      0.69      0.69       200\n",
            "\n",
            "Random Forest: Accuracy = 0.80\n",
            "              precision    recall  f1-score   support\n",
            "\n",
            "           0       0.80      1.00      0.89       159\n",
            "           1       0.00      0.00      0.00        41\n",
            "\n",
            "    accuracy                           0.80       200\n",
            "   macro avg       0.40      0.50      0.44       200\n",
            "weighted avg       0.63      0.80      0.70       200\n",
            "\n",
            "SVM: Accuracy = 0.80\n",
            "              precision    recall  f1-score   support\n",
            "\n",
            "           0       0.80      1.00      0.89       159\n",
            "           1       0.00      0.00      0.00        41\n",
            "\n",
            "    accuracy                           0.80       200\n",
            "   macro avg       0.40      0.50      0.44       200\n",
            "weighted avg       0.63      0.80      0.70       200\n",
            "\n"
          ]
        },
        {
          "output_type": "stream",
          "name": "stderr",
          "text": [
            "/usr/local/lib/python3.10/dist-packages/sklearn/metrics/_classification.py:1344: UndefinedMetricWarning: Precision and F-score are ill-defined and being set to 0.0 in labels with no predicted samples. Use `zero_division` parameter to control this behavior.\n",
            "  _warn_prf(average, modifier, msg_start, len(result))\n",
            "/usr/local/lib/python3.10/dist-packages/sklearn/metrics/_classification.py:1344: UndefinedMetricWarning: Precision and F-score are ill-defined and being set to 0.0 in labels with no predicted samples. Use `zero_division` parameter to control this behavior.\n",
            "  _warn_prf(average, modifier, msg_start, len(result))\n",
            "/usr/local/lib/python3.10/dist-packages/sklearn/metrics/_classification.py:1344: UndefinedMetricWarning: Precision and F-score are ill-defined and being set to 0.0 in labels with no predicted samples. Use `zero_division` parameter to control this behavior.\n",
            "  _warn_prf(average, modifier, msg_start, len(result))\n",
            "/usr/local/lib/python3.10/dist-packages/sklearn/metrics/_classification.py:1344: UndefinedMetricWarning: Precision and F-score are ill-defined and being set to 0.0 in labels with no predicted samples. Use `zero_division` parameter to control this behavior.\n",
            "  _warn_prf(average, modifier, msg_start, len(result))\n",
            "/usr/local/lib/python3.10/dist-packages/sklearn/metrics/_classification.py:1344: UndefinedMetricWarning: Precision and F-score are ill-defined and being set to 0.0 in labels with no predicted samples. Use `zero_division` parameter to control this behavior.\n",
            "  _warn_prf(average, modifier, msg_start, len(result))\n",
            "/usr/local/lib/python3.10/dist-packages/sklearn/metrics/_classification.py:1344: UndefinedMetricWarning: Precision and F-score are ill-defined and being set to 0.0 in labels with no predicted samples. Use `zero_division` parameter to control this behavior.\n",
            "  _warn_prf(average, modifier, msg_start, len(result))\n"
          ]
        },
        {
          "output_type": "stream",
          "name": "stdout",
          "text": [
            "Neural Network: Accuracy = 0.78\n",
            "              precision    recall  f1-score   support\n",
            "\n",
            "           0       0.79      0.98      0.88       159\n",
            "           1       0.00      0.00      0.00        41\n",
            "\n",
            "    accuracy                           0.78       200\n",
            "   macro avg       0.40      0.49      0.44       200\n",
            "weighted avg       0.63      0.78      0.70       200\n",
            "\n"
          ]
        },
        {
          "output_type": "stream",
          "name": "stderr",
          "text": [
            "/usr/local/lib/python3.10/dist-packages/sklearn/neural_network/_multilayer_perceptron.py:686: ConvergenceWarning: Stochastic Optimizer: Maximum iterations (200) reached and the optimization hasn't converged yet.\n",
            "  warnings.warn(\n"
          ]
        }
      ]
    },
    {
      "cell_type": "markdown",
      "source": [
        "We split the preprocessed dataset into features (X) and target variables ('Diabetes_Status' and 'Heart_Disease_Status').\n",
        "We split the data into training and testing sets.\n",
        "We initialize classifiers for logistic regression, decision trees, random forests, support vector machines (SVM), and neural networks.\n",
        "We train each classifier on the training data and evaluate its performance on the testing data using accuracy and classification reports.\n",
        "We repeat the process separately for predicting 'Diabetes_Status' and 'Heart_Disease_Status'."
      ],
      "metadata": {
        "id": "3bu3BxWf9I3h"
      }
    },
    {
      "cell_type": "markdown",
      "source": [
        "# Model Training"
      ],
      "metadata": {
        "id": "g8dY4_7R95n9"
      }
    },
    {
      "cell_type": "code",
      "source": [
        "from sklearn.model_selection import train_test_split, cross_val_score\n",
        "from sklearn.linear_model import LogisticRegression\n",
        "from sklearn.metrics import classification_report\n",
        "\n",
        "# Split data into features (X) and target variable (y)\n",
        "X = created_data.drop(columns=['Patient_ID', 'Diabetes_Status'])\n",
        "y_diabetes = created_data['Diabetes_Status']\n",
        "\n",
        "# Split data into training and testing sets\n",
        "X_train, X_test, y_train, y_test = train_test_split(X, y_diabetes, test_size=0.2, random_state=42)\n",
        "\n",
        "# Initialize Logistic Regression classifier\n",
        "logistic_reg = LogisticRegression()\n",
        "\n",
        "# Train the model on the training data\n",
        "logistic_reg.fit(X_train, y_train)\n",
        "\n",
        "# Evaluate the model using cross-validation\n",
        "cv_scores = cross_val_score(logistic_reg, X_train, y_train, cv=5)\n",
        "print(\"Cross-Validation Scores:\", cv_scores)\n",
        "print(\"Mean CV Score:\", np.mean(cv_scores))\n",
        "\n",
        "# Make predictions on the testing data\n",
        "y_pred = logistic_reg.predict(X_test)\n",
        "\n",
        "# Evaluate the model performance\n",
        "print(\"\\nClassification Report:\")\n",
        "print(classification_report(y_test, y_pred))\n"
      ],
      "metadata": {
        "id": "NG8qysco9XUg",
        "colab": {
          "base_uri": "https://localhost:8080/"
        },
        "outputId": "2e784aa5-e308-4b98-d5a4-e1cb9a6c20fc"
      },
      "execution_count": 25,
      "outputs": [
        {
          "output_type": "stream",
          "name": "stdout",
          "text": [
            "Cross-Validation Scores: [0.9     0.9     0.89375 0.89375 0.89375]\n",
            "Mean CV Score: 0.89625\n",
            "\n",
            "Classification Report:\n",
            "              precision    recall  f1-score   support\n",
            "\n",
            "           0       0.90      1.00      0.94       179\n",
            "           1       0.00      0.00      0.00        21\n",
            "\n",
            "    accuracy                           0.90       200\n",
            "   macro avg       0.45      0.50      0.47       200\n",
            "weighted avg       0.80      0.90      0.85       200\n",
            "\n"
          ]
        },
        {
          "output_type": "stream",
          "name": "stderr",
          "text": [
            "/usr/local/lib/python3.10/dist-packages/sklearn/metrics/_classification.py:1344: UndefinedMetricWarning: Precision and F-score are ill-defined and being set to 0.0 in labels with no predicted samples. Use `zero_division` parameter to control this behavior.\n",
            "  _warn_prf(average, modifier, msg_start, len(result))\n",
            "/usr/local/lib/python3.10/dist-packages/sklearn/metrics/_classification.py:1344: UndefinedMetricWarning: Precision and F-score are ill-defined and being set to 0.0 in labels with no predicted samples. Use `zero_division` parameter to control this behavior.\n",
            "  _warn_prf(average, modifier, msg_start, len(result))\n",
            "/usr/local/lib/python3.10/dist-packages/sklearn/metrics/_classification.py:1344: UndefinedMetricWarning: Precision and F-score are ill-defined and being set to 0.0 in labels with no predicted samples. Use `zero_division` parameter to control this behavior.\n",
            "  _warn_prf(average, modifier, msg_start, len(result))\n"
          ]
        }
      ]
    },
    {
      "cell_type": "markdown",
      "source": [
        "# Model Evaluation\n",
        "\n",
        "We plot the ROC curve to visualize the trade-off between true positive rate (sensitivity) and false positive rate (1 - specificity)."
      ],
      "metadata": {
        "id": "3XeR9Jo9-JXx"
      }
    },
    {
      "cell_type": "code",
      "source": [
        "from sklearn.metrics import accuracy_score, precision_score, recall_score, f1_score, roc_auc_score, roc_curve\n",
        "import matplotlib.pyplot as plt\n",
        "\n",
        "# Calculate evaluation metrics\n",
        "accuracy = accuracy_score(y_test, y_pred)\n",
        "precision = precision_score(y_test, y_pred)\n",
        "recall = recall_score(y_test, y_pred)\n",
        "f1 = f1_score(y_test, y_pred)\n",
        "\n",
        "# Calculate AUC-ROC\n",
        "y_pred_proba = logistic_reg.predict_proba(X_test)[:, 1]\n",
        "auc_roc = roc_auc_score(y_test, y_pred_proba)\n",
        "\n",
        "# Print evaluation metrics\n",
        "print(\"Accuracy:\", accuracy)\n",
        "print(\"Precision:\", precision)\n",
        "print(\"Recall:\", recall)\n",
        "print(\"F1-score:\", f1)\n",
        "print(\"AUC-ROC:\", auc_roc)\n",
        "\n",
        "# Plot ROC curve\n",
        "fpr, tpr, thresholds = roc_curve(y_test, y_pred_proba)\n",
        "plt.figure(figsize=(8, 6))\n",
        "plt.plot(fpr, tpr, label='ROC Curve (AUC = {:.2f})'.format(auc_roc))\n",
        "plt.plot([0, 1], [0, 1], linestyle='--', color='gray')\n",
        "plt.xlabel('False Positive Rate')\n",
        "plt.ylabel('True Positive Rate')\n",
        "plt.title('Receiver Operating Characteristic (ROC) Curve')\n",
        "plt.legend()\n",
        "plt.grid(True)\n",
        "plt.show()\n"
      ],
      "metadata": {
        "id": "09eqBfQ4-KeK",
        "colab": {
          "base_uri": "https://localhost:8080/",
          "height": 712
        },
        "outputId": "81edb7c0-5971-408c-aa73-f44ef83a2741"
      },
      "execution_count": 26,
      "outputs": [
        {
          "output_type": "stream",
          "name": "stderr",
          "text": [
            "/usr/local/lib/python3.10/dist-packages/sklearn/metrics/_classification.py:1344: UndefinedMetricWarning: Precision is ill-defined and being set to 0.0 due to no predicted samples. Use `zero_division` parameter to control this behavior.\n",
            "  _warn_prf(average, modifier, msg_start, len(result))\n"
          ]
        },
        {
          "output_type": "stream",
          "name": "stdout",
          "text": [
            "Accuracy: 0.895\n",
            "Precision: 0.0\n",
            "Recall: 0.0\n",
            "F1-score: 0.0\n",
            "AUC-ROC: 0.507049747273211\n"
          ]
        },
        {
          "output_type": "display_data",
          "data": {
            "text/plain": [
              "<Figure size 800x600 with 1 Axes>"
            ],
            "image/png": "[encoded data removed]"
          },
          "metadata": {}
        }
      ]
    },
    {
      "cell_type": "markdown",
      "source": [
        "This analysis allows us to understand how well the model performs in predicting the target disease, considering both the overall accuracy and the balance between sensitivity and specificity."
      ],
      "metadata": {
        "id": "N_XW0R2e-6rF"
      }
    },
    {
      "cell_type": "markdown",
      "source": [
        "# Interpretability\n",
        "Analyzing SHAP values provides insights into the importance of each feature in the model's predictions and helps explain why certain features are predictive of the target disease. The SHAP summary plot and force plot help interpret the model's behavior and provide explanations for individual predictions."
      ],
      "metadata": {
        "id": "dX44EZaS_bVA"
      }
    },
    {
      "cell_type": "code",
      "source": [
        "import shap\n",
        "\n",
        "\n",
        "# Initialize SHAP explainer\n",
        "explainer = shap.Explainer(logistic_reg, X_train)\n",
        "\n",
        "# Calculate SHAP values\n",
        "shap_values = explainer.shap_values(X_test)\n",
        "\n",
        "# Plot SHAP summary plot\n",
        "shap.summary_plot(shap_values, X_test, plot_type=\"bar\", show=False)\n",
        "plt.title('SHAP Feature Importance')\n",
        "plt.show()\n",
        "\n"
      ],
      "metadata": {
        "id": "ejjd04-x-_kp",
        "colab": {
          "base_uri": "https://localhost:8080/",
          "height": 579
        },
        "outputId": "af39e84b-315a-4daa-fe23-8d36409f2555"
      },
      "execution_count": 39,
      "outputs": [
        {
          "output_type": "display_data",
          "data": {
            "text/plain": [
              "<Figure size 800x550 with 1 Axes>"
            ],
            "image/png": "[encoded data removed]"
          },
          "metadata": {}
        }
      ]
    },
    {
      "cell_type": "markdown",
      "source": [
        "# Conclusion\n",
        "In conclusion, the developed logistic regression model shows promise in predicting Diabetes based on patient data. The model's interpretability and accuracy make it a valuable tool for healthcare professionals, policymakers, and patients alike. Further research and validation with real-world patient data are recommended to enhance the model's robustness."
      ],
      "metadata": {
        "id": "ro7QwsODz_FO"
      }
    },
    {
      "cell_type": "markdown",
      "source": [
        "# References\n",
        "H20.ai- https://docs.h2o.ai/\n",
        "\n",
        "OLS Model- http://net-informations.com/ds/mla/ols.html\n",
        "\n",
        "Linear Regression- https://www.analyticsvidhya.com/blog/2021/05/all-you-need-to-know-about-your-first-machine-learning-model-linear-regression/\n",
        "\n",
        "ChatGPT - https://chat.openai.com/chat\n",
        "\n",
        "\n",
        "All code in this note is available as open source through the MIT license.\n",
        "\n",
        "All text and images are free to use under the Creative Commons Attribution 3.0 license. https://creativecommons.org/licenses/by/3.0/us/\n",
        "\n",
        "MIT License\n",
        "\n",
        "Copyright (c) 2024 ADUSUMILLIJ\n",
        "\n",
        "Permission is hereby granted, free of charge, to any person obtaining a copy of this software and associated documentation files (the \"Software\"), to deal in the Software without restriction, including without limitation the rights to use, copy, modify, merge, publish, distribute, sublicense, and/or sell copies of the Software, and to permit persons to whom the Software is furnished to do so, subject to the following conditions:\n",
        "\n",
        "The above copyright notice and this permission notice shall be included in all copies or substantial portions of the Software.\n",
        "\n",
        "THE SOFTWARE IS PROVIDED \"AS IS\", WITHOUT WARRANTY OF ANY KIND, EXPRESS OR IMPLIED, INCLUDING BUT NOT LIMITED TO THE WARRANTIES OF MERCHANTABILITY, FITNESS FOR A PARTICULAR PURPOSE AND NONINFRINGEMENT. IN NO EVENT SHALL THE AUTHORS OR COPYRIGHT HOLDERS BE LIABLE FOR ANY CLAIM, DAMAGES OR OTHER LIABILITY, WHETHER IN AN ACTION OF CONTRACT, TORT OR OTHERWISE, ARISING FROM, OUT OF OR IN CONNECTION WITH THE SOFTWARE OR THE USE OR OTHER DEALINGS IN THE SOFTWARE."
      ],
      "metadata": {
        "id": "G3aYKGEztAee"
      }
    }
  ]
}